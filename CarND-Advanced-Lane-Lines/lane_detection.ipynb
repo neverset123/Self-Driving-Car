{
 "cells": [
  {
   "cell_type": "code",
   "execution_count": 38,
   "metadata": {},
   "outputs": [],
   "source": [
    "import cv2\n",
    "import numpy as np\n",
    "\n",
    "p_objects = []\n",
    "p_images = []\n",
    "\n",
    "nx = 9\n",
    "ny = 6\n",
    "# x, y coordinates\n",
    "p_object = np.zeros((ny*nx,3), np.float32)\n",
    "p_object[:,:2] = np.mgrid[0:nx,0:ny].T.reshape(-1,2)\n",
    "\n"
   ]
  },
  {
   "cell_type": "markdown",
   "metadata": {},
   "source": [
    "## calibration"
   ]
  },
  {
   "cell_type": "code",
   "execution_count": 415,
   "metadata": {
    "collapsed": true
   },
   "outputs": [],
   "source": [
    "import numpy as np\n",
    "import cv2\n",
    "import glob\n",
    "import matplotlib.pyplot as plt\n",
    "import matplotlib.image as mpimg\n",
    "import os\n",
    "\n",
    "# Make a list of calibration images\n",
    "images = glob.glob('./camera_cal/calibration*.jpg')\n",
    "# Step through the list and search for chessboard corners\n",
    "for fname in images:\n",
    "    img = mpimg.imread(fname)\n",
    "    gray = cv2.cvtColor(img, cv2.COLOR_BGR2GRAY)\n",
    "    ret, corners = cv2.findChessboardCorners(gray, (nx, ny), None)\n",
    "    if ret:\n",
    "        p_images.append(corners)\n",
    "        p_objects.append(p_object)\n",
    "    \n",
    "ret, mtx, dist, rvecs, tvecs = cv2.calibrateCamera(p_objects, p_images, gray.shape[::-1], None, None)\n"
   ]
  },
  {
   "cell_type": "code",
   "execution_count": 416,
   "metadata": {},
   "outputs": [],
   "source": [
    "cal_images = glob.glob('./camera_cal/calibration*.jpg')\n",
    "test_images = glob.glob('./test_images/*.jpg')\n",
    "for fname in cal_images:\n",
    "    img = mpimg.imread(fname)\n",
    "    undistorted_img = cv2.undistort(img, mtx, dist, None, mtx)\n",
    "    cv2.imwrite(\"output_images/calibration/\"+os.path.basename(fname), cv2.cvtColor(undistorted_img, cv2.COLOR_RGB2BGR))\n",
    "for fname in test_images:\n",
    "    img = mpimg.imread(fname)\n",
    "    undistorted_img = cv2.undistort(img, mtx, dist, None, mtx)\n",
    "    cv2.imwrite(\"output_images/test_images_undistorted/\"+os.path.basename(fname), cv2.cvtColor(undistorted_img, cv2.COLOR_RGB2BGR))"
   ]
  },
  {
   "cell_type": "markdown",
   "metadata": {},
   "source": [
    "## Color and Gradient Transformation"
   ]
  },
  {
   "cell_type": "code",
   "execution_count": 418,
   "metadata": {},
   "outputs": [],
   "source": [
    "\n",
    "def to_binary(img, s_thresh=(170, 255), sx_thresh=(20, 100)):\n",
    "    img = np.copy(img)\n",
    "    gray = cv2.cvtColor(img, cv2.COLOR_RGB2GRAY)\n",
    "    # Convert to HLS color space and separate the V channel\n",
    "    hls = cv2.cvtColor(img, cv2.COLOR_RGB2HLS)\n",
    "    l_channel = hls[:,:,1]\n",
    "    s_channel = hls[:,:,2]\n",
    "    # Sobel x\n",
    "    sobelx = cv2.Sobel(l_channel, cv2.CV_64F, 1, 0) # Take the derivative in x\n",
    "    abs_sobelx = np.absolute(sobelx) # Absolute x derivative to accentuate lines away from horizontal\n",
    "    scaled_sobel = np.uint8(255*abs_sobelx/np.max(abs_sobelx))\n",
    "    \n",
    "    # Threshold x gradient\n",
    "    sxbinary = np.zeros_like(scaled_sobel)\n",
    "    sxbinary[(scaled_sobel >= sx_thresh[0]) & (scaled_sobel <= sx_thresh[1])] = 1\n",
    "    \n",
    "    # Threshold color channel\n",
    "    s_binary = np.zeros_like(s_channel)\n",
    "    s_binary[(s_channel >= s_thresh[0]) & (s_channel <= s_thresh[1])] = 1\n",
    "    # Stack each channel\n",
    "    color_binary = np.dstack(( np.zeros_like(sxbinary), sxbinary, s_binary)) * 255\n",
    "    combined_binary = np.zeros_like(sxbinary)\n",
    "    combined_binary[(s_binary == 1) | (sxbinary == 1)] = 1\n",
    "    return color_binary, combined_binary\n",
    "    "
   ]
  },
  {
   "cell_type": "code",
   "execution_count": 422,
   "metadata": {},
   "outputs": [],
   "source": [
    "for fname in test_images:\n",
    "    img = mpimg.imread(fname)\n",
    "    undistorted_img = cv2.undistort(img, mtx, dist, None, mtx)\n",
    "    color_binary, combined_binary = to_binary(undistorted_img)\n",
    "    cv2.imwrite(\"output_images/test_images_binary/color/\"+os.path.basename(fname), cv2.cvtColor(color_binary, cv2.COLOR_RGB2BGR))\n",
    "    cv2.imwrite(\"output_images/test_images_binary/combined/\"+os.path.basename(fname), cv2.normalize(combined_binary, None, 0, 255, cv2.NORM_MINMAX))"
   ]
  },
  {
   "cell_type": "markdown",
   "metadata": {},
   "source": [
    "## Perspective Transform"
   ]
  },
  {
   "cell_type": "code",
   "execution_count": 426,
   "metadata": {},
   "outputs": [],
   "source": [
    "import math\n",
    "import numpy as np\n",
    "from sklearn import linear_model\n",
    "from statistics import median\n",
    "\n",
    "def get_src(img):\n",
    "    bottom_left_x = int(5.5/27.8*img.shape[1])\n",
    "    bottom_left_y = int(15/15.7*img.shape[0])\n",
    "    bottom_right_x = int(22.6/27.8*img.shape[1])\n",
    "    bottom_right_y = int(15/15.7*img.shape[0])\n",
    "    top_left_x = int(11.6/27.8*img.shape[1])\n",
    "    top_left_y = int(10.7/15.7*img.shape[0])\n",
    "    top_right_x = int(16.2/27.8*img.shape[1])\n",
    "    top_right_y = int(10.7/15.7*img.shape[0])\n",
    "    return np.float32([[top_left_x, top_left_y], [bottom_left_x, bottom_left_y], [bottom_right_x, bottom_right_y], [top_right_x, top_right_y]])\n",
    "\n",
    "def get_dst(img):\n",
    "    offset_x = 300\n",
    "    offset_y = 50\n",
    "    return np.float32([[offset_x, offset_y], [offset_x, img.shape[0]-offset_y],[img.shape[1]-offset_x, img.shape[0]-offset_y], [img.shape[1]-offset_x, offset_y]])\n",
    "\n",
    "def to_bev(img):\n",
    "    src = get_src(img)\n",
    "    dst = get_dst(img)\n",
    "    img_size = (img.shape[1], img.shape[0])\n",
    "    M = cv2.getPerspectiveTransform(src, dst)\n",
    "    M_reverse = cv2.getPerspectiveTransform(dst, src)\n",
    "    warped = cv2.warpPerspective(img, M, img_size)\n",
    "    return warped, M, M_reverse"
   ]
  },
  {
   "cell_type": "code",
   "execution_count": 427,
   "metadata": {},
   "outputs": [],
   "source": [
    "for fname in test_images:\n",
    "    img = mpimg.imread(fname)\n",
    "    undistorted_img = cv2.undistort(img, mtx, dist, None, mtx)\n",
    "    warped, M, M_reverse = to_bev(undistorted_img)\n",
    "    cv2.imwrite(\"output_images/test_images_bev/\"+os.path.basename(fname), cv2.cvtColor(warped, cv2.COLOR_RGB2BGR))\n"
   ]
  },
  {
   "cell_type": "markdown",
   "metadata": {},
   "source": [
    "## Fit Polynominal"
   ]
  },
  {
   "cell_type": "code",
   "execution_count": 441,
   "metadata": {},
   "outputs": [],
   "source": [
    "\n",
    "left_fit = np.empty([1,3])\n",
    "right_fit = np.empty([1,3])\n",
    "left_fit_real = np.empty([1,3])\n",
    "right_fit_real = np.empty([1,3])\n",
    "frame_count = 0\n",
    "ym_per_pix = 30/720 \n",
    "xm_per_pix = 3.7/700\n",
    "\n",
    "def find_lane_pixels(binary_warped):\n",
    "    histogram = np.sum(binary_warped[binary_warped.shape[0]//2:,:], axis=0)\n",
    "    out_img = np.dstack((binary_warped, binary_warped, binary_warped))\n",
    "    midpoint = np.int(histogram.shape[0]//2)\n",
    "    leftx_base = np.argmax(histogram[:midpoint])\n",
    "    rightx_base = np.argmax(histogram[midpoint:]) + midpoint\n",
    "\n",
    "    # HYPERPARAMETERS\n",
    "    nwindows = 9\n",
    "    margin = 100\n",
    "    minpix = 50\n",
    "\n",
    "    window_height = np.int(binary_warped.shape[0]//nwindows)\n",
    "    nonzero = binary_warped.nonzero()\n",
    "    nonzeroy = np.array(nonzero[0])\n",
    "    nonzerox = np.array(nonzero[1])\n",
    "    leftx_current = leftx_base\n",
    "    rightx_current = rightx_base\n",
    "\n",
    "    # Create empty lists to receive left and right lane pixel indices\n",
    "    left_lane_inds = []\n",
    "    right_lane_inds = []\n",
    "    for window in range(nwindows):\n",
    "        win_y_low = binary_warped.shape[0] - (window+1)*window_height\n",
    "        win_y_high = binary_warped.shape[0] - window*window_height\n",
    "        win_xleft_low = leftx_current-margin \n",
    "        win_xleft_high = leftx_current+margin \n",
    "        win_xright_low = rightx_current-margin \n",
    "        win_xright_high = rightx_current+margin\n",
    "        \n",
    "        # Draw the windows on the visualization image\n",
    "        cv2.rectangle(out_img,(win_xleft_low,win_y_low),\n",
    "        (win_xleft_high,win_y_high),(0,255,0), 2) \n",
    "        cv2.rectangle(out_img,(win_xright_low,win_y_low),\n",
    "        (win_xright_high,win_y_high),(0,255,0), 2) \n",
    "        \n",
    "        good_left_inds = ((nonzerox>=win_xleft_low)&(nonzerox<=win_xleft_high)&(nonzeroy>=win_y_low)&(nonzeroy<=win_y_high)).nonzero()[0]\n",
    "        good_right_inds = ((nonzerox>=win_xright_low)&(nonzerox<=win_xright_high)&(nonzeroy>=win_y_low)&(nonzeroy<=win_y_high)).nonzero()[0]\n",
    "        left_lane_inds.append(good_left_inds)\n",
    "        right_lane_inds.append(good_right_inds)\n",
    "        \n",
    "        if len(good_left_inds) > minpix:\n",
    "            leftx_current = np.int(np.mean(nonzerox[good_left_inds]))\n",
    "        if len(good_right_inds) > minpix:        \n",
    "            rightx_current = np.int(np.mean(nonzerox[good_right_inds]))\n",
    "\n",
    "    try:\n",
    "        left_lane_inds = np.concatenate(left_lane_inds)\n",
    "        right_lane_inds = np.concatenate(right_lane_inds)\n",
    "    except ValueError:\n",
    "        pass\n",
    "\n",
    "    # Extract left and right line pixel positions\n",
    "    leftx = nonzerox[left_lane_inds]\n",
    "    lefty = nonzeroy[left_lane_inds] \n",
    "    rightx = nonzerox[right_lane_inds]\n",
    "    righty = nonzeroy[right_lane_inds]\n",
    "\n",
    "    return leftx, lefty, rightx, righty, out_img\n",
    "\n",
    "\n",
    "def fit_polynomial(img_shape, leftx, lefty, rightx, righty):\n",
    "    global left_fit\n",
    "    global right_fit\n",
    "    global left_fit_real\n",
    "    global right_fit_real\n",
    "\n",
    "    left_fit_real = np.polyfit(lefty*ym_per_pix, leftx*xm_per_pix, 2)\n",
    "    right_fit_real = np.polyfit(righty*ym_per_pix, rightx*xm_per_pix, 2)\n",
    "    left_fit = np.polyfit(lefty, leftx, 2)\n",
    "    right_fit = np.polyfit(righty, rightx, 2)\n",
    "    # Generate x and y values for plotting\n",
    "    ploty = np.linspace(0, img_shape[0]-1, img_shape[0])\n",
    "    try:\n",
    "        left_fitx = left_fit[0]*ploty**2 + left_fit[1]*ploty + left_fit[2]\n",
    "        right_fitx = right_fit[0]*ploty**2 + right_fit[1]*ploty + right_fit[2]\n",
    "    except TypeError:\n",
    "        print('The function failed to fit a line!')\n",
    "        left_fitx = 1*ploty**2 + 1*ploty\n",
    "        right_fitx = 1*ploty**2 + 1*ploty\n",
    "    \n",
    "    return left_fitx, right_fitx, ploty\n",
    "\n",
    "\n",
    "def fit_polynomial_first_frame(binary_warped):\n",
    "    leftx, lefty, rightx, righty, out_img = find_lane_pixels(binary_warped)\n",
    "    left_fitx, right_fitx, ploty = fit_polynomial(binary_warped.shape, leftx, lefty, rightx, righty)\n",
    "\n",
    "    ## Visualization ##\n",
    "    out_img[lefty, leftx] = [255, 0, 0]\n",
    "    out_img[righty, rightx] = [0, 0, 255]\n",
    "    fit_points_left = (np.asarray([left_fitx, ploty]).T).astype(np.int32)\n",
    "    fit_points_right = (np.asarray([right_fitx, ploty]).T).astype(np.int32)\n",
    "    cv2.polylines(out_img, [fit_points_left], False, (255, 255, 0), 3)\n",
    "    cv2.polylines(out_img, [fit_points_right], False, (255, 255, 0), 3)\n",
    "\n",
    "    return out_img, ploty, left_fitx, right_fitx\n",
    "\n",
    "def search_around_poly(binary_warped):\n",
    "    global frame_count\n",
    "\n",
    "    margin = 100\n",
    "    minpix = 450\n",
    "    nonzero = binary_warped.nonzero()\n",
    "    nonzeroy = np.array(nonzero[0])\n",
    "    nonzerox = np.array(nonzero[1])\n",
    "    prev_left_value = left_fit[0]*nonzeroy**2+left_fit[1]*nonzeroy+left_fit[2]\n",
    "    prev_right_value = right_fit[0]*nonzeroy**2+right_fit[1]*nonzeroy+right_fit[2]\n",
    "    left_lane_inds = ((nonzerox>=prev_left_value-margin)&(nonzerox<=prev_left_value+margin))\n",
    "    right_lane_inds = ((nonzerox>=prev_right_value-margin)&(nonzerox<=prev_right_value+margin))\n",
    "    \n",
    "    #check points within margin\n",
    "    if len(left_lane_inds) < minpix or len(right_lane_inds) < minpix:\n",
    "        frame_count = 0\n",
    "\n",
    "    leftx = nonzerox[left_lane_inds]\n",
    "    lefty = nonzeroy[left_lane_inds] \n",
    "    rightx = nonzerox[right_lane_inds]\n",
    "    righty = nonzeroy[right_lane_inds]\n",
    "    leftx_current = np.int(np.mean(leftx))       \n",
    "    rightx_current = np.int(np.mean(rightx))\n",
    "    if abs(leftx_current-rightx_current)<500:\n",
    "        return fit_polynomial_first_frame(binary_warped)\n",
    "    left_fitx, right_fitx, ploty = fit_polynomial(binary_warped.shape, leftx, lefty, rightx, righty)\n",
    "    \n",
    "    ## Visualization ##\n",
    "    out_img = np.dstack((binary_warped, binary_warped, binary_warped))*255\n",
    "    window_img = np.zeros_like(out_img)\n",
    "    out_img[nonzeroy[left_lane_inds], nonzerox[left_lane_inds]] = [255, 0, 0]\n",
    "    out_img[nonzeroy[right_lane_inds], nonzerox[right_lane_inds]] = [0, 0, 255]\n",
    "\n",
    "    # Generate a polygon to illustrate the search window area\n",
    "    # left_line_window1 = np.array([np.transpose(np.vstack([left_fitx-margin, ploty]))])\n",
    "    left_line_window1 = np.array([np.stack((left_fitx-margin, ploty),axis=1)])\n",
    "    # left_line_window2 = np.array([np.flipud(np.transpose(np.vstack([left_fitx+margin, \n",
    "    #                           ploty])))])\n",
    "    left_line_window2 =np.array([np.flipud(np.stack((left_fitx+margin, ploty), axis=1))])\n",
    "\n",
    "    left_line_pts = np.hstack((left_line_window1, left_line_window2))\n",
    "    right_line_window1 = np.array([np.transpose(np.vstack([right_fitx-margin, ploty]))])\n",
    "    right_line_window2 = np.array([np.flipud(np.transpose(np.vstack([right_fitx+margin, \n",
    "                              ploty])))])\n",
    "    right_line_pts = np.hstack((right_line_window1, right_line_window2))\n",
    "\n",
    "    # Draw the lane onto the warped blank image\n",
    "    cv2.fillPoly(window_img, np.int_([left_line_pts]), (0,255, 0))\n",
    "    cv2.fillPoly(window_img, np.int_([right_line_pts]), (0,255, 0))\n",
    "    fit_points_left = (np.asarray([left_fitx, ploty]).T).astype(np.int32)\n",
    "    fit_points_right = (np.asarray([right_fitx, ploty]).T).astype(np.int32)\n",
    "    cv2.polylines(out_img, [fit_points_left], False, (255, 255, 0), 3)\n",
    "    cv2.polylines(out_img, [fit_points_right], False, (255, 255, 0), 3)\n",
    "    result = cv2.addWeighted(out_img, 1, window_img, 0.3, 0)\n",
    "    return result, ploty, left_fitx, right_fitx\n"
   ]
  },
  {
   "cell_type": "code",
   "execution_count": 437,
   "metadata": {},
   "outputs": [],
   "source": [
    "for fname in test_images:\n",
    "    img = mpimg.imread(fname)\n",
    "    undistorted_img = cv2.undistort(img, mtx, dist, None, mtx)\n",
    "    warped, M, M_reverse = to_bev(undistorted_img)\n",
    "    color_binary, combined_binary = to_binary(warped)\n",
    "    out_img, ploty, left_fitx, right_fitx = fit_polynomial_first_frame(combined_binary)\n",
    "    cv2.imwrite(\"output_images/test_images_polyfit/\"+os.path.basename(fname), cv2.cvtColor(out_img, cv2.COLOR_RGB2BGR))\n",
    "    "
   ]
  },
  {
   "cell_type": "markdown",
   "metadata": {},
   "source": [
    "## Calculate Curvature"
   ]
  },
  {
   "cell_type": "code",
   "execution_count": 442,
   "metadata": {},
   "outputs": [],
   "source": [
    "def measure_curvature_pixels(ploty):\n",
    "    y_eval = np.max(ploty)\n",
    "    left_curverad = ((1 + (2*left_fit[0]*y_eval + left_fit[1])**2)**1.5) / np.absolute(2*left_fit[0])\n",
    "    right_curverad = ((1 + (2*right_fit[0]*y_eval + right_fit[1])**2)**1.5) / np.absolute(2*right_fit[0])\n",
    "    \n",
    "    return left_curverad, right_curverad\n",
    "\n",
    "def measure_curvature_real_world(ploty):\n",
    "    y_eval = np.max(ploty)\n",
    "    left_curverad = ((1 + (2*left_fit_real[0]*y_eval*ym_per_pix + left_fit_real[1])**2)**1.5) / np.absolute(2*left_fit_real[0])\n",
    "    right_curverad = ((1 + (2*right_fit_real[0]*y_eval*ym_per_pix + right_fit_real[1])**2)**1.5) / np.absolute(2*right_fit_real[0])\n",
    "    \n",
    "    return left_curverad, right_curverad"
   ]
  },
  {
   "cell_type": "markdown",
   "metadata": {},
   "source": [
    "## Map lane area on image\n"
   ]
  },
  {
   "cell_type": "code",
   "execution_count": 443,
   "metadata": {},
   "outputs": [],
   "source": [
    "def map_lane_area(undist):\n",
    "    lane_img = np.zeros_like(undist)\n",
    "    pts_left = np.array([np.transpose(np.vstack([left_fitx, ploty]))])\n",
    "    pts_right = np.array([np.flipud(np.transpose(np.vstack([right_fitx, ploty])))])\n",
    "    pts = np.hstack((pts_left, pts_right))\n",
    "    cv2.fillPoly(lane_img, np.int_([pts]), (0, 255, 0))\n",
    "    img_size = (undist.shape[1], undist.shape[0])\n",
    "    lane_img_unwarped = cv2.warpPerspective(lane_img, M_reverse, img_size)\n",
    "    result = cv2.addWeighted(undist, 1, lane_img_unwarped, 0.3, 0)\n",
    "\n",
    "    line_img = np.zeros_like(undist)\n",
    "    fit_points_left = (np.asarray([left_fitx, ploty]).T).astype(np.int32)\n",
    "    fit_points_right = (np.asarray([right_fitx, ploty]).T).astype(np.int32)\n",
    "    cv2.polylines(line_img, [fit_points_left], False, (255, 255, 0), 5)\n",
    "    cv2.polylines(line_img, [fit_points_right], False, (255, 255, 0), 5)\n",
    "    line_img_unwarped = cv2.warpPerspective(line_img, M_reverse, img_size)\n",
    "    result = cv2.addWeighted(result, 0.8, line_img_unwarped, 0.5, 0)\n",
    "    return result\n"
   ]
  },
  {
   "cell_type": "code",
   "execution_count": 440,
   "metadata": {},
   "outputs": [],
   "source": [
    "for fname in test_images:\n",
    "    img = mpimg.imread(fname)\n",
    "    undistorted_img = cv2.undistort(img, mtx, dist, None, mtx)\n",
    "    warped, M, M_reverse = to_bev(undistorted_img)\n",
    "    color_binary, combined_binary = to_binary(warped)\n",
    "    out_img, ploty, left_fitx, right_fitx = fit_polynomial_first_frame(combined_binary)\n",
    "    result = map_lane_area(undistorted_img)\n",
    "    cv2.imwrite(\"output_images/test_images_lane_area/\"+os.path.basename(fname), cv2.cvtColor(result, cv2.COLOR_RGB2BGR))\n",
    "    "
   ]
  },
  {
   "cell_type": "markdown",
   "metadata": {},
   "source": [
    "## run on video"
   ]
  },
  {
   "cell_type": "code",
   "execution_count": 444,
   "metadata": {},
   "outputs": [],
   "source": [
    "   \n",
    "def process_image(image):\n",
    "    global frame_count\n",
    "    undist = cv2.undistort(image, mtx, dist, None, mtx)\n",
    "    b_color, b_gray = to_binary(undist)\n",
    "    warped, M, M_reverse  = to_bev(b_gray)\n",
    "    if frame_count>0:\n",
    "        out_img, ploty, left_fitx, right_fitx = search_around_poly(warped)\n",
    "    else:\n",
    "        out_img, ploty, left_fitx, right_fitx = fit_polynomial_first_frame(warped)\n",
    "    R_left, R_right = measure_curvature_pixels(ploty)\n",
    "    frame_count += 1\n",
    "\n",
    "    result = map_lane_area(undist)\n",
    "    cv2.putText(result, f\"left curvatur: {R_left:.2f}, right curvatur: {R_right:.2f}\", (200, 100), cv2.FONT_HERSHEY_SIMPLEX, 1, color = (255, 255, 255))\n",
    "    return result"
   ]
  },
  {
   "cell_type": "code",
   "execution_count": 445,
   "metadata": {},
   "outputs": [
    {
     "name": "stdout",
     "output_type": "stream",
     "text": [
      "Moviepy - Building video project_video_output.mp4.\n",
      "Moviepy - Writing video project_video_output.mp4\n",
      "\n"
     ]
    },
    {
     "name": "stderr",
     "output_type": "stream",
     "text": [
      "                                                                \r"
     ]
    },
    {
     "name": "stdout",
     "output_type": "stream",
     "text": [
      "Moviepy - Done !\n",
      "Moviepy - video ready project_video_output.mp4\n",
      "CPU times: user 19min 52s, sys: 28.6 s, total: 20min 20s\n",
      "Wall time: 1min 29s\n"
     ]
    }
   ],
   "source": [
    "from moviepy.editor import VideoFileClip, vfx, clips_array\n",
    "from IPython.display import HTML\n",
    "\n",
    "video_output = 'project_video_output.mp4'\n",
    "# clip1 = VideoFileClip(\"project_video.mp4\").subclip(45,50)\n",
    "clip1 = VideoFileClip(\"project_video.mp4\")\n",
    "frame_count = 0\n",
    "white_clip = clip1.fl_image(process_image)\n",
    "%time white_clip.write_videofile(video_output, audio=False)"
   ]
  },
  {
   "cell_type": "code",
   "execution_count": 446,
   "metadata": {},
   "outputs": [
    {
     "data": {
      "text/html": [
       "\n",
       "<video width=\"960\" height=\"540\" controls>\n",
       "  <source src=\"project_video_output.mp4\">\n",
       "</video>\n"
      ],
      "text/plain": [
       "<IPython.core.display.HTML object>"
      ]
     },
     "execution_count": 446,
     "metadata": {},
     "output_type": "execute_result"
    }
   ],
   "source": [
    "HTML(\"\"\"\n",
    "<video width=\"960\" height=\"540\" controls>\n",
    "  <source src=\"{0}\">\n",
    "</video>\n",
    "\"\"\".format(video_output))"
   ]
  }
 ],
 "metadata": {
  "anaconda-cloud": {},
  "kernelspec": {
   "display_name": "data_loop",
   "language": "python",
   "name": "python3"
  },
  "language_info": {
   "codemirror_mode": {
    "name": "ipython",
    "version": 3
   },
   "file_extension": ".py",
   "mimetype": "text/x-python",
   "name": "python",
   "nbconvert_exporter": "python",
   "pygments_lexer": "ipython3",
   "version": "3.7.12"
  }
 },
 "nbformat": 4,
 "nbformat_minor": 1
}
